{
  "nbformat": 4,
  "nbformat_minor": 0,
  "metadata": {
    "colab": {
      "provenance": [],
      "include_colab_link": true
    },
    "kernelspec": {
      "display_name": "Python [default]",
      "language": "python",
      "name": "python3"
    }
  },
  "cells": [
    {
      "cell_type": "markdown",
      "metadata": {
        "id": "view-in-github",
        "colab_type": "text"
      },
      "source": [
        "<a href=\"https://colab.research.google.com/github/EarnerZ/EarnerZ/blob/main/RL_Q_learning_paso_a_paso_clase.ipynb\" target=\"_parent\"><img src=\"https://colab.research.google.com/assets/colab-badge.svg\" alt=\"Open In Colab\"/></a>"
      ]
    },
    {
      "cell_type": "markdown",
      "metadata": {
        "id": "sMRhK700MphA"
      },
      "source": [
        "# Algoritmo Q-learning (paso a paso)\n",
        "\n",
        "Basado en:\n",
        "https://www.oreilly.com/learning/introduction-to-reinforcement-learning-and-openai-gym\n",
        "\n",
        "https://github.com/dennybritz/reinforcement-learning/blob/master/TD/SARSA%20Solution.ipynb"
      ]
    },
    {
      "cell_type": "code",
      "metadata": {
        "id": "UzovFuUoMphO",
        "colab": {
          "base_uri": "https://localhost:8080/"
        },
        "outputId": "629a80df-8567-4cf3-f177-1f9d6fbdf398"
      },
      "source": [
        "!git clone https://github.com/dennybritz/reinforcement-learning.git\n",
        "import numpy as np\n",
        "import pprint\n",
        "import sys\n",
        "sys.path.append(\"/content/reinforcement-learning/\")\n",
        "from lib.envs.gridworld import GridworldEnv\n",
        "from collections import defaultdict\n",
        "\n",
        "import itertools"
      ],
      "execution_count": null,
      "outputs": [
        {
          "output_type": "stream",
          "name": "stdout",
          "text": [
            "Cloning into 'reinforcement-learning'...\n",
            "remote: Enumerating objects: 1290, done.\u001b[K\n",
            "remote: Counting objects: 100% (16/16), done.\u001b[K\n",
            "remote: Compressing objects: 100% (12/12), done.\u001b[K\n",
            "remote: Total 1290 (delta 5), reused 10 (delta 4), pack-reused 1274\u001b[K\n",
            "Receiving objects: 100% (1290/1290), 5.25 MiB | 30.73 MiB/s, done.\n",
            "Resolving deltas: 100% (826/826), done.\n"
          ]
        }
      ]
    },
    {
      "cell_type": "markdown",
      "metadata": {
        "id": "GC1o_6rEfNDW"
      },
      "source": [
        "### Leer el entorno"
      ]
    },
    {
      "cell_type": "code",
      "metadata": {
        "id": "kpMG_M86Mphy"
      },
      "source": [
        "pp = pprint.PrettyPrinter(indent=2)\n",
        "env = GridworldEnv()"
      ],
      "execution_count": null,
      "outputs": []
    },
    {
      "cell_type": "code",
      "metadata": {
        "colab": {
          "base_uri": "https://localhost:8080/"
        },
        "id": "jiIsB65OegkV",
        "outputId": "87f267fb-8345-4f4e-aa94-d8c9a55d806f"
      },
      "source": [
        "env._render()"
      ],
      "execution_count": null,
      "outputs": [
        {
          "output_type": "stream",
          "name": "stdout",
          "text": [
            "T  o  o  o\n",
            "o  o  o  o\n",
            "o  o  o  o\n",
            "o  x  o  T\n"
          ]
        }
      ]
    },
    {
      "cell_type": "markdown",
      "metadata": {
        "id": "izlH6u2IfNEO"
      },
      "source": [
        "### Definir funcion auxiliar"
      ]
    },
    {
      "cell_type": "code",
      "metadata": {
        "id": "wZQBf3Q8MpiQ"
      },
      "source": [
        "\n",
        "def make_epsilon_greedy_policy(Q, epsilon, nA):\n",
        "    \"\"\"\n",
        "    Creates an epsilon-greedy policy based on a given Q-function and epsilon.\n",
        "\n",
        "    Args:\n",
        "        Q: A dictionary that maps from state -> action-values.\n",
        "            Each value is a numpy array of length nA (see below)\n",
        "        epsilon: The probability to select a random action . float between 0 and 1.\n",
        "        nA: Number of actions in the environment.\n",
        "\n",
        "    Returns:\n",
        "        A function that takes the observation as an argument and returns\n",
        "        the probabilities for each action in the form of a numpy array of length nA.\n",
        "\n",
        "    \"\"\"\n",
        "    def policy_fn(observation):\n",
        "        A = np.ones(nA, dtype=float) * epsilon / (nA-1)\n",
        "        best_action = np.argmax(Q[observation])\n",
        "        A[best_action] = (1.0 - epsilon)\n",
        "        return A\n",
        "    return policy_fn\n",
        "\n"
      ],
      "execution_count": null,
      "outputs": []
    },
    {
      "cell_type": "markdown",
      "metadata": {
        "id": "1Q5a31pIMpig"
      },
      "source": [
        "### Q-LEARNING"
      ]
    },
    {
      "cell_type": "code",
      "metadata": {
        "id": "NdbJzWtoMpio"
      },
      "source": [
        "def q_learning(env, num_episodes, discount_factor=1.0, alpha=0.5, epsilon=0.1):\n",
        "    \"\"\"\n",
        "    Q-Learning algorithm: Off-policy TD control. Finds the optimal greedy policy\n",
        "    while following an epsilon-greedy policy\n",
        "\n",
        "    Args:\n",
        "        env: OpenAI environment.\n",
        "        num_episodes: Number of episodes to run for.\n",
        "        discount_factor: Gamma discount factor.\n",
        "        alpha: TD learning rate.\n",
        "        epsilon: Chance the sample a random action. Float betwen 0 and 1.\n",
        "\n",
        "    Returns:\n",
        "        A tuple (Q, episode_lengths).\n",
        "        Q is the optimal action-value function, a dictionary mapping state -> action values.\n",
        "        stats is an EpisodeStats object with two numpy arrays for episode_lengths and episode_rewards.\n",
        "    \"\"\"\n",
        "\n",
        "    # The final action-value function.\n",
        "    # A nested dictionary that maps state -> (action -> action-value).\n",
        "    Q = defaultdict(lambda: np.zeros(env.action_space.n))\n",
        "\n",
        "    # Keeps track of useful statistics\n",
        "\n",
        "    episode_lengths=np.zeros(num_episodes)\n",
        "    episode_rewards=np.zeros(num_episodes)\n",
        "\n",
        "    # The policy we're following\n",
        "    policy = make_epsilon_greedy_policy(Q, epsilon, env.action_space.n)\n",
        "\n",
        "    for i_episode in range(num_episodes):\n",
        "        # Print out which episode we're on, useful for debugging.\n",
        "        if (i_episode + 1) % 100 == 0:\n",
        "            print(\"\\rEpisode {}/{}.\".format(i_episode + 1, num_episodes), end=\"\")\n",
        "            sys.stdout.flush()\n",
        "\n",
        "        # Reset the environment and pick the first action\n",
        "        state = env.reset()\n",
        "\n",
        "        # One step in the environment\n",
        "        # total_reward = 0.0\n",
        "        for t in itertools.count():\n",
        "\n",
        "            # Take a step\n",
        "            action_probs = policy(state)\n",
        "            action = np.random.choice(np.arange(len(action_probs)), p=action_probs)\n",
        "            next_state, reward, done, _ = env.step(action)\n",
        "\n",
        "            # Update statistics\n",
        "            episode_rewards[i_episode] += reward\n",
        "            episode_lengths[i_episode] = t\n",
        "\n",
        "            # TD Update\n",
        "            best_next_action = np.argmax(Q[next_state])\n",
        "            td_target = reward + discount_factor * Q[next_state][best_next_action]\n",
        "            td_delta = td_target - Q[state][action]\n",
        "            Q[state][action] += alpha * td_delta\n",
        "\n",
        "            if done:\n",
        "                break\n",
        "\n",
        "            state = next_state\n",
        "\n",
        "    return Q, episode_lengths, episode_rewards"
      ],
      "execution_count": null,
      "outputs": []
    },
    {
      "cell_type": "markdown",
      "source": [
        "## Paso a paso"
      ],
      "metadata": {
        "id": "XPd1tdbq0kdp"
      }
    },
    {
      "cell_type": "code",
      "source": [
        "#Parametros\n",
        "discount_factor=0.9\n",
        "alpha=0.5\n",
        "epsilon=0.1"
      ],
      "metadata": {
        "id": "Q7Qr60FI8UjB",
        "colab": {
          "base_uri": "https://localhost:8080/"
        },
        "outputId": "43ad7da7-d460-44af-9996-8a5d967ed220"
      },
      "execution_count": null,
      "outputs": [
        {
          "output_type": "stream",
          "name": "stderr",
          "text": [
            "/usr/local/lib/python3.10/dist-packages/ipykernel/ipkernel.py:283: DeprecationWarning: `should_run_async` will not call `transform_cell` automatically in the future. Please pass the result to `transformed_cell` argument and any exception that happen during thetransform in `preprocessing_exc_tuple` in IPython 7.17 and above.\n",
            "  and should_run_async(code)\n"
          ]
        }
      ]
    },
    {
      "cell_type": "code",
      "source": [
        "#Inicializamos\n",
        "Q = defaultdict(lambda: np.zeros(env.action_space.n))\n",
        "\n",
        "# The policy we're following\n",
        "policy = make_epsilon_greedy_policy(Q, epsilon, env.action_space.n)\n",
        "\n",
        "# Reset the environment and pick the first action\n",
        "state = env.reset()\n",
        "\n",
        "t = 0"
      ],
      "metadata": {
        "id": "eFnxWu5C8U89"
      },
      "execution_count": null,
      "outputs": []
    },
    {
      "cell_type": "code",
      "source": [
        "state = env.reset()"
      ],
      "metadata": {
        "id": "Ngy8ArEtnt0Q"
      },
      "execution_count": null,
      "outputs": []
    },
    {
      "cell_type": "markdown",
      "source": [
        "EMPEZAMOS A ENTRENAR"
      ],
      "metadata": {
        "id": "uz8n88ydCYmb"
      }
    },
    {
      "cell_type": "code",
      "source": [
        "env._render()"
      ],
      "metadata": {
        "colab": {
          "base_uri": "https://localhost:8080/"
        },
        "id": "-Qq2bHAf9McT",
        "outputId": "d86d4ab0-ca57-4715-da10-770979e7ac6a"
      },
      "execution_count": null,
      "outputs": [
        {
          "output_type": "stream",
          "name": "stdout",
          "text": [
            "T  x  o  o\n",
            "o  o  o  o\n",
            "o  o  o  o\n",
            "o  o  o  T\n"
          ]
        }
      ]
    },
    {
      "cell_type": "code",
      "source": [
        "# Valores en el estado actual\n",
        "print(Q[state])"
      ],
      "metadata": {
        "colab": {
          "base_uri": "https://localhost:8080/"
        },
        "id": "dw3HA5FKCjBK",
        "outputId": "e8f4b9f8-6df6-498f-a285-44fcdc09baf4"
      },
      "execution_count": null,
      "outputs": [
        {
          "output_type": "stream",
          "name": "stdout",
          "text": [
            "[ 0.   0.   0.  -0.5]\n"
          ]
        }
      ]
    },
    {
      "cell_type": "code",
      "source": [
        " # Probabilidades de tomar cada accion\n",
        "action_probs = policy(state)\n",
        "print(action_probs)"
      ],
      "metadata": {
        "colab": {
          "base_uri": "https://localhost:8080/"
        },
        "id": "Lknyb_r58VQ_",
        "outputId": "296aae55-b304-4662-9c25-8b603216c213"
      },
      "execution_count": null,
      "outputs": [
        {
          "output_type": "stream",
          "name": "stdout",
          "text": [
            "[0.9        0.03333333 0.03333333 0.03333333]\n"
          ]
        }
      ]
    },
    {
      "cell_type": "code",
      "source": [
        "# Elegimos la acción usando un \"dado pesado por las probabilidades\"\n",
        "action = np.random.choice(np.arange(len(action_probs)), p=action_probs)\n",
        "print(action)"
      ],
      "metadata": {
        "colab": {
          "base_uri": "https://localhost:8080/"
        },
        "id": "mNrgFphB9pV6",
        "outputId": "113742b0-6ea6-46f9-b78c-df892372a211"
      },
      "execution_count": null,
      "outputs": [
        {
          "output_type": "stream",
          "name": "stdout",
          "text": [
            "0\n"
          ]
        }
      ]
    },
    {
      "cell_type": "code",
      "source": [
        "action = 3"
      ],
      "metadata": {
        "id": "w0rDtbYpvWdN"
      },
      "execution_count": null,
      "outputs": []
    },
    {
      "cell_type": "code",
      "source": [
        "# Hacemos la acción y vemos el resultado\n",
        "next_state, reward, done, _ = env.step(action)\n",
        "print(next_state)\n",
        "print(reward)\n",
        "print(done)"
      ],
      "metadata": {
        "colab": {
          "base_uri": "https://localhost:8080/"
        },
        "id": "oONgN7Jm_UYN",
        "outputId": "cbb412f5-3b70-4d05-c56a-0ac54b90bd14"
      },
      "execution_count": null,
      "outputs": [
        {
          "output_type": "stream",
          "name": "stdout",
          "text": [
            "0\n",
            "-1.0\n",
            "True\n"
          ]
        }
      ]
    },
    {
      "cell_type": "code",
      "source": [
        "env._render()\n"
      ],
      "metadata": {
        "colab": {
          "base_uri": "https://localhost:8080/"
        },
        "id": "J3YoyFn8_UiR",
        "outputId": "0bea975b-efa9-41e2-8ee4-567ea1be98ad"
      },
      "execution_count": null,
      "outputs": [
        {
          "output_type": "stream",
          "name": "stdout",
          "text": [
            "x  o  o  o\n",
            "o  o  o  o\n",
            "o  o  o  o\n",
            "o  o  o  T\n"
          ]
        }
      ]
    },
    {
      "cell_type": "code",
      "source": [
        "# mejor acción a futuro\n",
        "best_next_action = np.argmax(Q[next_state])\n",
        "print(Q[next_state])"
      ],
      "metadata": {
        "colab": {
          "base_uri": "https://localhost:8080/"
        },
        "id": "vgJBTUN__UqY",
        "outputId": "aef73169-5d14-44a6-fd4b-ed541bc92342"
      },
      "execution_count": null,
      "outputs": [
        {
          "output_type": "stream",
          "name": "stdout",
          "text": [
            "[0. 0. 0. 0.]\n"
          ]
        }
      ]
    },
    {
      "cell_type": "code",
      "source": [
        "print(best_next_action)"
      ],
      "metadata": {
        "colab": {
          "base_uri": "https://localhost:8080/"
        },
        "id": "GauWUPMSAW5O",
        "outputId": "0f3bc425-fcd1-450f-c20e-867e7d2b7323"
      },
      "execution_count": null,
      "outputs": [
        {
          "output_type": "stream",
          "name": "stdout",
          "text": [
            "0\n"
          ]
        }
      ]
    },
    {
      "cell_type": "code",
      "source": [
        "# Aplicamos la actualización\n",
        "print('antes: ' + str(Q[state]))\n",
        "td_target = reward + discount_factor * Q[next_state][best_next_action]\n",
        "print('td target: ' + str(td_target))\n",
        "td_delta = td_target - Q[state][action]\n",
        "print('td delta: ' + str(td_delta))\n",
        "#Q[state][action] += alpha * td_delta\n",
        "Q[state][action] = Q[state][action] + alpha * td_delta\n",
        "print('despues de actualizar: ' + str(Q[state]))"
      ],
      "metadata": {
        "colab": {
          "base_uri": "https://localhost:8080/"
        },
        "id": "C7hs7Ufr_UyK",
        "outputId": "c1f16e39-c004-43bd-cec3-8c7a5bbf606a"
      },
      "execution_count": null,
      "outputs": [
        {
          "output_type": "stream",
          "name": "stdout",
          "text": [
            "antes: [ 0.   0.   0.  -0.5]\n",
            "td target: -1.0\n",
            "td delta: -0.5\n",
            "despues de actualizar: [ 0.    0.    0.   -0.75]\n"
          ]
        }
      ]
    },
    {
      "cell_type": "code",
      "source": [
        "Q"
      ],
      "metadata": {
        "colab": {
          "base_uri": "https://localhost:8080/"
        },
        "id": "O1ZchbGP_U7z",
        "outputId": "064f6084-a1c7-4c9f-8fa1-c4bb925ab685"
      },
      "execution_count": null,
      "outputs": [
        {
          "output_type": "execute_result",
          "data": {
            "text/plain": [
              "defaultdict(<function __main__.<lambda>()>,\n",
              "            {13: array([ 0. ,  0. ,  0. , -0.5]),\n",
              "             12: array([-0.5,  0. ,  0. ,  0. ]),\n",
              "             8: array([-0.5,  0. ,  0. ,  0. ]),\n",
              "             4: array([-0.5,  0. ,  0. ,  0. ]),\n",
              "             0: array([0., 0., 0., 0.]),\n",
              "             3: array([-0.5  , -0.875, -0.5  , -0.5  ]),\n",
              "             7: array([-0.5,  0. ,  0. ,  0. ]),\n",
              "             2: array([ 0. ,  0. ,  0. , -0.5]),\n",
              "             1: array([ 0.  ,  0.  ,  0.  , -0.75])})"
            ]
          },
          "metadata": {},
          "execution_count": 166
        }
      ]
    },
    {
      "cell_type": "code",
      "source": [
        "state = next_state"
      ],
      "metadata": {
        "id": "nS6ypWz1_VEU"
      },
      "execution_count": null,
      "outputs": []
    },
    {
      "cell_type": "code",
      "source": [],
      "metadata": {
        "id": "fxLFRwaC_VmY"
      },
      "execution_count": null,
      "outputs": []
    },
    {
      "cell_type": "markdown",
      "metadata": {
        "id": "K-klaI8UMpi2"
      },
      "source": [
        "render state"
      ]
    },
    {
      "cell_type": "code",
      "metadata": {
        "id": "_RnDjdtnMpi6",
        "colab": {
          "base_uri": "https://localhost:8080/"
        },
        "outputId": "102ae1b0-1998-4248-b93a-1c62ff363a32"
      },
      "source": [
        "Q, stats_episode_lengths, stats_episode_rewards = q_learning(env, 2000)"
      ],
      "execution_count": null,
      "outputs": [
        {
          "output_type": "stream",
          "name": "stdout",
          "text": [
            "Episode 2000/2000."
          ]
        }
      ]
    },
    {
      "cell_type": "code",
      "metadata": {
        "id": "d-V9ysBmMpjW",
        "colab": {
          "base_uri": "https://localhost:8080/",
          "height": 448
        },
        "outputId": "510bece3-3ea8-4775-aba6-e0b668b4312d"
      },
      "source": [
        "import matplotlib.pyplot as plt\n",
        "\n",
        "plt.figure()\n",
        "plt.plot(stats_episode_lengths)"
      ],
      "execution_count": null,
      "outputs": [
        {
          "output_type": "execute_result",
          "data": {
            "text/plain": [
              "[<matplotlib.lines.Line2D at 0x7f757cbc2380>]"
            ]
          },
          "metadata": {},
          "execution_count": 204
        },
        {
          "output_type": "display_data",
          "data": {
            "text/plain": [
              "<Figure size 640x480 with 1 Axes>"
            ],
            "image/png": "[encoded data removed]"
          },
          "metadata": {}
        }
      ]
    },
    {
      "cell_type": "code",
      "metadata": {
        "id": "NUGsM_c5r7q3",
        "colab": {
          "base_uri": "https://localhost:8080/",
          "height": 448
        },
        "outputId": "3ca0cf72-82d5-4c2a-f769-654e52fe30d6"
      },
      "source": [
        "plt.figure()\n",
        "plt.plot(stats_episode_rewards)"
      ],
      "execution_count": null,
      "outputs": [
        {
          "output_type": "execute_result",
          "data": {
            "text/plain": [
              "[<matplotlib.lines.Line2D at 0x7f757cc5d120>]"
            ]
          },
          "metadata": {},
          "execution_count": 205
        },
        {
          "output_type": "display_data",
          "data": {
            "text/plain": [
              "<Figure size 640x480 with 1 Axes>"
            ],
            "image/png": "[encoded data removed]"
          },
          "metadata": {}
        }
      ]
    },
    {
      "cell_type": "markdown",
      "metadata": {
        "id": "w8n1TomYMpkK"
      },
      "source": [
        "Action State"
      ]
    },
    {
      "cell_type": "code",
      "metadata": {
        "id": "ua0JrXZ1MpkO",
        "colab": {
          "base_uri": "https://localhost:8080/"
        },
        "outputId": "64b7660c-9767-4061-d37c-bc161bb2d0fe"
      },
      "source": [
        "Q"
      ],
      "execution_count": null,
      "outputs": [
        {
          "output_type": "execute_result",
          "data": {
            "text/plain": [
              "defaultdict(<function __main__.q_learning.<locals>.<lambda>()>,\n",
              "            {14: array([-2.99869412, -1.        , -1.99969458, -2.99938965]),\n",
              "             10: array([-3.98476243, -2.        , -2.        , -3.98632075]),\n",
              "             6: array([-3., -3., -3., -3.]),\n",
              "             5: array([-2.        , -3.99980734, -3.87062426, -2.        ]),\n",
              "             1: array([-1.99999809, -2.99998474, -2.99999928, -1.        ]),\n",
              "             2: array([-2.984375  , -3.9982738 , -3.96963027, -2.        ]),\n",
              "             3: array([-3.98426236, -3.99039841, -3.        , -3.        ]),\n",
              "             7: array([-3.99296255, -2.99995422, -2.        , -3.99969644]),\n",
              "             11: array([-2.99999833, -1.99999988, -1.        , -2.99999915]),\n",
              "             15: array([0., 0., 0., 0.]),\n",
              "             12: array([-3.        , -3.        , -3.93661813, -3.3125    ]),\n",
              "             13: array([-3.93022802, -2.        , -2.99549866, -3.99841956]),\n",
              "             9: array([-3., -3., -3., -3.]),\n",
              "             8: array([-2.        , -3.87499188, -3.99430773, -2.99951172]),\n",
              "             4: array([-1.        , -2.99630967, -2.99998569, -1.99996185]),\n",
              "             0: array([0., 0., 0., 0.])})"
            ]
          },
          "metadata": {},
          "execution_count": 206
        }
      ]
    },
    {
      "cell_type": "markdown",
      "metadata": {
        "id": "RXdd3dajMpkY"
      },
      "source": [
        "Vamos a ver que ha aprendido!"
      ]
    },
    {
      "cell_type": "code",
      "metadata": {
        "scrolled": true,
        "id": "HCQ2P807Mpke",
        "colab": {
          "base_uri": "https://localhost:8080/"
        },
        "outputId": "62a5ccc9-c59e-4748-e6d9-c159a4f8695b"
      },
      "source": [
        "\n",
        "done = False\n",
        "G, reward = 0,0\n",
        "state = env.reset()\n",
        "while done != True:\n",
        "        action = np.argmax(Q[state]) #1\n",
        "        state2, reward, done, info = env.step(action) #2\n",
        "        #Q[state,action] += alpha * (reward + np.max(Q[state2]) - Q[state,action]) #3\n",
        "        G += reward\n",
        "        env._render()\n",
        "        state = state2\n",
        "print(G)\n"
      ],
      "execution_count": null,
      "outputs": [
        {
          "output_type": "stream",
          "name": "stdout",
          "text": [
            "T  o  o  o\n",
            "o  o  o  o\n",
            "o  o  o  o\n",
            "o  o  x  T\n",
            "T  o  o  o\n",
            "o  o  o  o\n",
            "o  o  o  o\n",
            "o  o  o  x\n",
            "-2.0\n"
          ]
        }
      ]
    },
    {
      "cell_type": "code",
      "metadata": {
        "id": "IAZv2MmdCAKi"
      },
      "source": [],
      "execution_count": null,
      "outputs": []
    },
    {
      "cell_type": "code",
      "source": [
        "politica = np.zeros((16,))\n",
        "\n",
        "for i in range(15):\n",
        "    politica[i] = np.argmax(Q[i])"
      ],
      "metadata": {
        "colab": {
          "base_uri": "https://localhost:8080/"
        },
        "id": "agIN-XUYyg7U",
        "outputId": "47a648e8-5332-4f71-fe99-6305bfc7f6b1"
      },
      "execution_count": null,
      "outputs": [
        {
          "output_type": "stream",
          "name": "stderr",
          "text": [
            "/usr/local/lib/python3.10/dist-packages/ipykernel/ipkernel.py:283: DeprecationWarning: `should_run_async` will not call `transform_cell` automatically in the future. Please pass the result to `transformed_cell` argument and any exception that happen during thetransform in `preprocessing_exc_tuple` in IPython 7.17 and above.\n",
            "  and should_run_async(code)\n"
          ]
        }
      ]
    },
    {
      "cell_type": "code",
      "source": [
        "np.reshape(politica,(4,4))"
      ],
      "metadata": {
        "colab": {
          "base_uri": "https://localhost:8080/"
        },
        "id": "LUWk09HmyipZ",
        "outputId": "79b551b1-5b28-47d8-bd19-a29d836a0362"
      },
      "execution_count": null,
      "outputs": [
        {
          "output_type": "execute_result",
          "data": {
            "text/plain": [
              "array([[0., 3., 3., 2.],\n",
              "       [0., 0., 1., 2.],\n",
              "       [0., 1., 1., 2.],\n",
              "       [0., 1., 1., 0.]])"
            ]
          },
          "metadata": {},
          "execution_count": 211
        }
      ]
    },
    {
      "cell_type": "code",
      "source": [],
      "metadata": {
        "id": "6u_k8xOWy5fY"
      },
      "execution_count": null,
      "outputs": []
    }
  ]
}